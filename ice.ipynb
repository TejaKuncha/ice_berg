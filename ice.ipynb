{
 "cells": [
  {
   "cell_type": "code",
   "execution_count": 7,
   "metadata": {},
   "outputs": [
    {
     "name": "stdout",
     "output_type": "stream",
     "text": [
      "Learning rate = 0.003 -- Decay rate = 0.001\n"
     ]
    }
   ],
   "source": [
    "# Import necessary modules and functions\n",
    "import numpy as np\n",
    "import pandas as pd\n",
    "import matplotlib.pyplot as plt\n",
    "import warnings\n",
    "from time import time\n",
    "from keras.models import Sequential\n",
    "from keras.layers import Conv2D, Dense, Dropout, MaxPool2D, BatchNormalization, GlobalMaxPool2D, Activation, Flatten, Conv2DTranspose\n",
    "from keras.regularizers import l2\n",
    "from keras.optimizers import Adam, Nadam, RMSprop\n",
    "from keras.callbacks import EarlyStopping, ReduceLROnPlateau\n",
    "from keras.utils import to_categorical\n",
    "from keras.preprocessing.image import ImageDataGenerator\n",
    "from sklearn.model_selection import train_test_split\n",
    "\n",
    "warnings.filterwarnings('ignore')\n",
    "\n",
    "#Declare some constants\n",
    "epoch = 1000\n",
    "batch_size = 16\n",
    "kernel = (3, 3)\n",
    "reg_constant = 0.025\n",
    "learning_rate = 0.003\n",
    "decay_rate = 0.001\n",
    "print(\"Learning rate = {} -- Decay rate = {}\".format(learning_rate, decay_rate))"
   ]
  },
  {
   "cell_type": "code",
   "execution_count": 2,
   "metadata": {},
   "outputs": [
    {
     "name": "stdout",
     "output_type": "stream",
     "text": [
      "Load Train Data\n",
      "data_train.shape:  (1604, 75, 75, 3)\n"
     ]
    }
   ],
   "source": [
    "print(\"Load Train Data\")\n",
    "data = pd.read_json(\"data/train.json\")\n",
    "target_train = data['is_iceberg']\n",
    "x1 = np.array([np.array(band).astype(np.float32).reshape(75, 75) for band in data[\"band_1\"]])\n",
    "x2 = np.array([np.array(band).astype(np.float32).reshape(75, 75) for band in data[\"band_2\"]])\n",
    "x3 = (x1 + x2) / 2\n",
    "data_train = np.stack([x1, x2, x3], axis=-1)\n",
    "print('data_train.shape: ', data_train.shape)\n",
    "inp_shape = (75, 75, data_train.shape[3])"
   ]
  },
  {
   "cell_type": "code",
   "execution_count": 3,
   "metadata": {},
   "outputs": [],
   "source": [
    "X_train, X_valid, y_train, y_valid = train_test_split(data_train, to_categorical(target_train, 2), test_size=0.25)\n",
    "\n",
    "img_gen = ImageDataGenerator(horizontal_flip=True, vertical_flip=True, rotation_range=45, zoom_range=0.2)\n",
    "\n",
    "img_gen.fit(X_train, augment=True, rounds=3)\n",
    "\n",
    "gen_train = img_gen.flow(X_train, y_train, batch_size)\n",
    "gen_valid = img_gen.flow(X_valid, y_valid, batch_size)\n",
    "\n",
    "steps_train = len(X_train) / batch_size\n",
    "steps_valid = len(X_valid) / batch_size\n"
   ]
  },
  {
   "cell_type": "code",
   "execution_count": 13,
   "metadata": {
    "scrolled": false
   },
   "outputs": [
    {
     "name": "stdout",
     "output_type": "stream",
     "text": [
      "_________________________________________________________________\n",
      "Layer (type)                 Output Shape              Param #   \n",
      "=================================================================\n",
      "batch_normalization_4 (Batch (None, 75, 75, 3)         12        \n",
      "_________________________________________________________________\n",
      "conv2d_19 (Conv2D)           (None, 75, 75, 32)        896       \n",
      "_________________________________________________________________\n",
      "conv2d_20 (Conv2D)           (None, 75, 75, 32)        9248      \n",
      "_________________________________________________________________\n",
      "max_pooling2d_7 (MaxPooling2 (None, 37, 37, 32)        0         \n",
      "_________________________________________________________________\n",
      "conv2d_21 (Conv2D)           (None, 37, 37, 64)        18496     \n",
      "_________________________________________________________________\n",
      "conv2d_22 (Conv2D)           (None, 37, 37, 64)        36928     \n",
      "_________________________________________________________________\n",
      "max_pooling2d_8 (MaxPooling2 (None, 18, 18, 64)        0         \n",
      "_________________________________________________________________\n",
      "conv2d_23 (Conv2D)           (None, 18, 18, 256)       147712    \n",
      "_________________________________________________________________\n",
      "conv2d_24 (Conv2D)           (None, 18, 18, 256)       590080    \n",
      "_________________________________________________________________\n",
      "global_max_pooling2d_4 (Glob (None, 256)               0         \n",
      "_________________________________________________________________\n",
      "dense_10 (Dense)             (None, 32)                8224      \n",
      "_________________________________________________________________\n",
      "dense_11 (Dense)             (None, 16)                528       \n",
      "_________________________________________________________________\n",
      "dense_12 (Dense)             (None, 2)                 34        \n",
      "=================================================================\n",
      "Total params: 812,158\n",
      "Trainable params: 812,152\n",
      "Non-trainable params: 6\n",
      "_________________________________________________________________\n"
     ]
    }
   ],
   "source": [
    "def classifier():\n",
    "    clf = Sequential()\n",
    "    clf.add(BatchNormalization(input_shape=inp_shape))\n",
    "    \n",
    "    clf.add(Conv2D(32, kernel, activation='relu', kernel_regularizer=l2(reg_constant), padding='same', bias_initializer='glorot_uniform'))\n",
    "    clf.add(Conv2D(32, kernel, activation='relu', padding='same', bias_initializer='glorot_uniform'))\n",
    "    clf.add(MaxPool2D())\n",
    "    \n",
    "    clf.add(Conv2D(64, kernel, activation='relu', kernel_regularizer=l2(reg_constant), padding='same', bias_initializer='glorot_uniform'))\n",
    "    clf.add(Conv2D(64, kernel, activation='relu', padding='same', bias_initializer='glorot_uniform'))\n",
    "    clf.add(MaxPool2D())\n",
    "    \n",
    "    clf.add(Conv2D(256, kernel, activation='relu', kernel_regularizer=l2(reg_constant), bias_initializer='glorot_uniform', padding='same'))\n",
    "    clf.add(Conv2D(256, kernel, activation='relu', bias_initializer='glorot_uniform', padding='same'))\n",
    "\n",
    "    clf.add(GlobalMaxPool2D())\n",
    "    clf.add(Dense(units=32, activation='relu', bias_initializer='glorot_uniform'))\n",
    "    clf.add(Dense(units=16, activation='relu', bias_initializer='glorot_uniform'))\n",
    "    clf.add(Dense(units=2, activation='softmax', bias_initializer='glorot_uniform'))\n",
    "    clf.summary()\n",
    "    ada = Adam(lr=learning_rate, decay=decay_rate)\n",
    "\n",
    "    clf.compile(optimizer=ada, loss='categorical_crossentropy', metrics=['categorical_accuracy'])\n",
    "    return clf\n",
    "\n",
    "model = classifier()\n",
    "stop = EarlyStopping(monitor='val_loss', patience=8)\n",
    "lr = ReduceLROnPlateau(factor=0.2)"
   ]
  },
  {
   "cell_type": "code",
   "execution_count": 14,
   "metadata": {
    "scrolled": true
   },
   "outputs": [
    {
     "name": "stdout",
     "output_type": "stream",
     "text": [
      "Epoch 1/1000\n",
      "76/75 [==============================] - 132s - loss: 1.6846 - categorical_accuracy: 0.5260 - val_loss: 0.9147 - val_categorical_accuracy: 0.4838\n",
      "Epoch 2/1000\n",
      "76/75 [==============================] - 131s - loss: 0.7964 - categorical_accuracy: 0.5268 - val_loss: 0.7568 - val_categorical_accuracy: 0.4688\n",
      "Epoch 3/1000\n",
      "76/75 [==============================] - 130s - loss: 0.7442 - categorical_accuracy: 0.5184 - val_loss: 0.7228 - val_categorical_accuracy: 0.5262\n",
      "Epoch 4/1000\n",
      "76/75 [==============================] - 127s - loss: 0.7311 - categorical_accuracy: 0.5291 - val_loss: 0.7005 - val_categorical_accuracy: 0.5237\n",
      "Epoch 5/1000\n",
      "76/75 [==============================] - 131s - loss: 0.7015 - categorical_accuracy: 0.5425 - val_loss: 0.7276 - val_categorical_accuracy: 0.5337\n",
      "Epoch 6/1000\n",
      "76/75 [==============================] - 132s - loss: 0.7341 - categorical_accuracy: 0.4984 - val_loss: 0.7073 - val_categorical_accuracy: 0.5287\n",
      "Epoch 7/1000\n",
      "76/75 [==============================] - 133s - loss: 0.6845 - categorical_accuracy: 0.5795 - val_loss: 0.7213 - val_categorical_accuracy: 0.5536\n",
      "Epoch 8/1000\n",
      "76/75 [==============================] - 131s - loss: 0.6924 - categorical_accuracy: 0.5532 - val_loss: 0.6829 - val_categorical_accuracy: 0.5786\n",
      "Epoch 9/1000\n",
      "76/75 [==============================] - 132s - loss: 0.6849 - categorical_accuracy: 0.5926 - val_loss: 0.6731 - val_categorical_accuracy: 0.6135\n",
      "Epoch 10/1000\n",
      "76/75 [==============================] - 140s - loss: 0.6786 - categorical_accuracy: 0.5949 - val_loss: 0.6861 - val_categorical_accuracy: 0.6309\n",
      "Epoch 11/1000\n",
      "76/75 [==============================] - 133s - loss: 0.6743 - categorical_accuracy: 0.6069 - val_loss: 0.6938 - val_categorical_accuracy: 0.5860\n",
      "Epoch 12/1000\n",
      "76/75 [==============================] - 136s - loss: 0.6692 - categorical_accuracy: 0.6074 - val_loss: 0.6827 - val_categorical_accuracy: 0.5810\n",
      "Epoch 13/1000\n",
      "76/75 [==============================] - 137s - loss: 0.6665 - categorical_accuracy: 0.6048 - val_loss: 0.6789 - val_categorical_accuracy: 0.6010\n",
      "Epoch 14/1000\n",
      "76/75 [==============================] - 135s - loss: 0.6667 - categorical_accuracy: 0.6163 - val_loss: 0.6812 - val_categorical_accuracy: 0.6110\n",
      "Epoch 15/1000\n",
      "76/75 [==============================] - 136s - loss: 0.6602 - categorical_accuracy: 0.6424 - val_loss: 0.6815 - val_categorical_accuracy: 0.6085\n",
      "Epoch 16/1000\n",
      "76/75 [==============================] - 133s - loss: 0.6689 - categorical_accuracy: 0.6247 - val_loss: 0.6960 - val_categorical_accuracy: 0.5262\n",
      "Epoch 17/1000\n",
      "76/75 [==============================] - 139s - loss: 0.6625 - categorical_accuracy: 0.6292 - val_loss: 0.6692 - val_categorical_accuracy: 0.6409\n",
      "Epoch 18/1000\n",
      "76/75 [==============================] - 132s - loss: 0.6547 - categorical_accuracy: 0.6340 - val_loss: 0.6655 - val_categorical_accuracy: 0.6110\n",
      "Epoch 19/1000\n",
      "76/75 [==============================] - 132s - loss: 0.6561 - categorical_accuracy: 0.6477 - val_loss: 0.6735 - val_categorical_accuracy: 0.6060\n",
      "Epoch 20/1000\n",
      "76/75 [==============================] - 133s - loss: 0.6449 - categorical_accuracy: 0.6543 - val_loss: 0.6684 - val_categorical_accuracy: 0.6085\n",
      "Epoch 21/1000\n",
      "76/75 [==============================] - 131s - loss: 0.6468 - categorical_accuracy: 0.6609 - val_loss: 0.6435 - val_categorical_accuracy: 0.6559\n",
      "Epoch 22/1000\n",
      "76/75 [==============================] - 135s - loss: 0.6341 - categorical_accuracy: 0.6631 - val_loss: 0.6533 - val_categorical_accuracy: 0.6384\n",
      "Epoch 23/1000\n",
      "76/75 [==============================] - 134s - loss: 0.6186 - categorical_accuracy: 0.6960 - val_loss: 0.6673 - val_categorical_accuracy: 0.6509\n",
      "Epoch 24/1000\n",
      "76/75 [==============================] - 135s - loss: 0.6055 - categorical_accuracy: 0.7020 - val_loss: 0.5180 - val_categorical_accuracy: 0.7506\n",
      "Epoch 25/1000\n",
      "76/75 [==============================] - 136s - loss: 0.5443 - categorical_accuracy: 0.7409 - val_loss: 0.5543 - val_categorical_accuracy: 0.7082\n",
      "Epoch 26/1000\n",
      "76/75 [==============================] - 142s - loss: 0.5378 - categorical_accuracy: 0.7590 - val_loss: 0.5059 - val_categorical_accuracy: 0.7481\n",
      "Epoch 27/1000\n",
      "76/75 [==============================] - 133s - loss: 0.5315 - categorical_accuracy: 0.7459 - val_loss: 0.5149 - val_categorical_accuracy: 0.7307\n",
      "Epoch 28/1000\n",
      "76/75 [==============================] - 140s - loss: 0.5014 - categorical_accuracy: 0.7629 - val_loss: 0.5044 - val_categorical_accuracy: 0.7456\n",
      "Epoch 29/1000\n",
      "76/75 [==============================] - 135s - loss: 0.5001 - categorical_accuracy: 0.7746 - val_loss: 0.4363 - val_categorical_accuracy: 0.7955\n",
      "Epoch 30/1000\n",
      "76/75 [==============================] - 130s - loss: 0.5248 - categorical_accuracy: 0.7656 - val_loss: 0.4414 - val_categorical_accuracy: 0.8105\n",
      "Epoch 31/1000\n",
      "76/75 [==============================] - 130s - loss: 0.4656 - categorical_accuracy: 0.7892 - val_loss: 0.4341 - val_categorical_accuracy: 0.7955\n",
      "Epoch 32/1000\n",
      "76/75 [==============================] - 140s - loss: 0.4568 - categorical_accuracy: 0.7865 - val_loss: 0.4525 - val_categorical_accuracy: 0.8080\n",
      "Epoch 33/1000\n",
      "76/75 [==============================] - 134s - loss: 0.4749 - categorical_accuracy: 0.7886 - val_loss: 0.4707 - val_categorical_accuracy: 0.7930\n",
      "Epoch 34/1000\n",
      "76/75 [==============================] - 131s - loss: 0.4150 - categorical_accuracy: 0.8180 - val_loss: 0.4334 - val_categorical_accuracy: 0.8030\n",
      "Epoch 35/1000\n",
      "76/75 [==============================] - 134s - loss: 0.4263 - categorical_accuracy: 0.8040 - val_loss: 0.4250 - val_categorical_accuracy: 0.8229\n",
      "Epoch 36/1000\n",
      "76/75 [==============================] - 135s - loss: 0.4080 - categorical_accuracy: 0.8238 - val_loss: 0.3740 - val_categorical_accuracy: 0.8653\n",
      "Epoch 37/1000\n",
      "76/75 [==============================] - 132s - loss: 0.4150 - categorical_accuracy: 0.8172 - val_loss: 0.4553 - val_categorical_accuracy: 0.7781\n",
      "Epoch 38/1000\n",
      "76/75 [==============================] - 135s - loss: 0.4112 - categorical_accuracy: 0.8117 - val_loss: 0.4427 - val_categorical_accuracy: 0.8304\n",
      "Epoch 39/1000\n",
      "76/75 [==============================] - 138s - loss: 0.4035 - categorical_accuracy: 0.8180 - val_loss: 0.4857 - val_categorical_accuracy: 0.8080\n",
      "Epoch 40/1000\n",
      "76/75 [==============================] - 134s - loss: 0.4165 - categorical_accuracy: 0.8205 - val_loss: 0.3856 - val_categorical_accuracy: 0.8504\n",
      "Epoch 41/1000\n",
      "76/75 [==============================] - 134s - loss: 0.3915 - categorical_accuracy: 0.8446 - val_loss: 0.4251 - val_categorical_accuracy: 0.8454\n",
      "Epoch 42/1000\n",
      "76/75 [==============================] - 132s - loss: 0.4562 - categorical_accuracy: 0.8013 - val_loss: 0.3683 - val_categorical_accuracy: 0.8653\n",
      "Epoch 43/1000\n",
      "76/75 [==============================] - 134s - loss: 0.3957 - categorical_accuracy: 0.8273 - val_loss: 0.3775 - val_categorical_accuracy: 0.8554\n",
      "Epoch 44/1000\n",
      "76/75 [==============================] - 135s - loss: 0.3939 - categorical_accuracy: 0.8211 - val_loss: 0.3690 - val_categorical_accuracy: 0.8329\n",
      "Epoch 45/1000\n",
      "76/75 [==============================] - 140s - loss: 0.3673 - categorical_accuracy: 0.8435 - val_loss: 0.3813 - val_categorical_accuracy: 0.8579\n",
      "Epoch 46/1000\n",
      "76/75 [==============================] - 146s - loss: 0.3734 - categorical_accuracy: 0.8421 - val_loss: 0.3965 - val_categorical_accuracy: 0.8254\n",
      "Epoch 47/1000\n",
      "76/75 [==============================] - 147s - loss: 0.3833 - categorical_accuracy: 0.8312 - val_loss: 0.3441 - val_categorical_accuracy: 0.8653\n",
      "Epoch 48/1000\n",
      "76/75 [==============================] - 136s - loss: 0.3707 - categorical_accuracy: 0.8363 - val_loss: 0.3375 - val_categorical_accuracy: 0.8803\n",
      "Epoch 49/1000\n",
      "76/75 [==============================] - 131s - loss: 0.3757 - categorical_accuracy: 0.8446 - val_loss: 0.3337 - val_categorical_accuracy: 0.8778\n",
      "Epoch 50/1000\n",
      "76/75 [==============================] - 135s - loss: 0.3472 - categorical_accuracy: 0.8544 - val_loss: 0.3432 - val_categorical_accuracy: 0.8703\n",
      "Epoch 51/1000\n",
      "76/75 [==============================] - 143s - loss: 0.3603 - categorical_accuracy: 0.8460 - val_loss: 0.3733 - val_categorical_accuracy: 0.8603\n",
      "Epoch 52/1000\n"
     ]
    },
    {
     "name": "stdout",
     "output_type": "stream",
     "text": [
      "76/75 [==============================] - 170s - loss: 0.3630 - categorical_accuracy: 0.8503 - val_loss: 0.3285 - val_categorical_accuracy: 0.8728\n",
      "Epoch 53/1000\n",
      "76/75 [==============================] - 155s - loss: 0.3582 - categorical_accuracy: 0.8470 - val_loss: 0.3497 - val_categorical_accuracy: 0.8828\n",
      "Epoch 54/1000\n",
      "76/75 [==============================] - 173s - loss: 0.3620 - categorical_accuracy: 0.8429 - val_loss: 0.3522 - val_categorical_accuracy: 0.8554\n",
      "Epoch 55/1000\n",
      "76/75 [==============================] - 160s - loss: 0.4459 - categorical_accuracy: 0.8104 - val_loss: 0.3378 - val_categorical_accuracy: 0.8653\n",
      "Epoch 56/1000\n",
      "76/75 [==============================] - 157s - loss: 0.3525 - categorical_accuracy: 0.8503 - val_loss: 0.4027 - val_categorical_accuracy: 0.8404\n",
      "Epoch 57/1000\n",
      "76/75 [==============================] - 170s - loss: 0.3585 - categorical_accuracy: 0.8443 - val_loss: 0.3503 - val_categorical_accuracy: 0.8678\n",
      "Epoch 58/1000\n",
      "76/75 [==============================] - 167s - loss: 0.3732 - categorical_accuracy: 0.8416 - val_loss: 0.3666 - val_categorical_accuracy: 0.8379\n",
      "Epoch 59/1000\n",
      "76/75 [==============================] - 169s - loss: 0.3506 - categorical_accuracy: 0.8454 - val_loss: 0.3637 - val_categorical_accuracy: 0.8429\n",
      "Epoch 60/1000\n",
      "76/75 [==============================] - 164s - loss: 0.4040 - categorical_accuracy: 0.8192 - val_loss: 0.3611 - val_categorical_accuracy: 0.8603\n",
      "Epoch 61/1000\n",
      "76/75 [==============================] - 132s - loss: 0.3484 - categorical_accuracy: 0.8474 - val_loss: 0.3077 - val_categorical_accuracy: 0.8828\n",
      "Epoch 62/1000\n",
      "76/75 [==============================] - 131s - loss: 0.3388 - categorical_accuracy: 0.8569 - val_loss: 0.3794 - val_categorical_accuracy: 0.8404\n",
      "Epoch 63/1000\n",
      "76/75 [==============================] - 134s - loss: 0.3447 - categorical_accuracy: 0.8501 - val_loss: 0.3047 - val_categorical_accuracy: 0.8778\n",
      "Epoch 64/1000\n",
      "76/75 [==============================] - 138s - loss: 0.3530 - categorical_accuracy: 0.8437 - val_loss: 0.3169 - val_categorical_accuracy: 0.8703\n",
      "Epoch 65/1000\n",
      "76/75 [==============================] - 132s - loss: 0.3375 - categorical_accuracy: 0.8536 - val_loss: 0.3324 - val_categorical_accuracy: 0.8728\n",
      "Epoch 66/1000\n",
      "76/75 [==============================] - 134s - loss: 0.3585 - categorical_accuracy: 0.8422 - val_loss: 0.3404 - val_categorical_accuracy: 0.8354\n",
      "Epoch 67/1000\n",
      "76/75 [==============================] - 139s - loss: 0.3472 - categorical_accuracy: 0.8594 - val_loss: 0.3227 - val_categorical_accuracy: 0.8529\n",
      "Epoch 68/1000\n",
      "76/75 [==============================] - 146s - loss: 0.3275 - categorical_accuracy: 0.8594 - val_loss: 0.3175 - val_categorical_accuracy: 0.8803\n",
      "Epoch 69/1000\n",
      "76/75 [==============================] - 144s - loss: 0.3616 - categorical_accuracy: 0.8476 - val_loss: 0.3420 - val_categorical_accuracy: 0.8953\n",
      "Epoch 70/1000\n",
      "76/75 [==============================] - 138s - loss: 0.3329 - categorical_accuracy: 0.8575 - val_loss: 0.3173 - val_categorical_accuracy: 0.8778\n",
      "Epoch 71/1000\n",
      "76/75 [==============================] - 138s - loss: 0.3425 - categorical_accuracy: 0.8517 - val_loss: 0.3434 - val_categorical_accuracy: 0.8579\n",
      "Epoch 72/1000\n",
      "76/75 [==============================] - 137s - loss: 0.3325 - categorical_accuracy: 0.8659 - val_loss: 0.3113 - val_categorical_accuracy: 0.8953\n",
      "Time taken = 10046.09 sec\n"
     ]
    }
   ],
   "source": [
    "t0 = time()\n",
    "his = model.fit_generator(generator=gen_train, steps_per_epoch=steps_train, epochs=epoch, callbacks=[lr, stop],\n",
    "                          validation_data=gen_valid, validation_steps=steps_valid)\n",
    "\n",
    "print('Time taken = %.2f sec' % (time() - t0))"
   ]
  },
  {
   "cell_type": "code",
   "execution_count": 15,
   "metadata": {},
   "outputs": [
    {
     "data": {
      "image/png": "[encoded data removed]",
      "text/plain": [
       "<matplotlib.figure.Figure at 0x2e3a11d0>"
      ]
     },
     "metadata": {},
     "output_type": "display_data"
    },
    {
     "data": {
      "image/png": "[encoded data removed]",
      "text/plain": [
       "<matplotlib.figure.Figure at 0x2e3b0518>"
      ]
     },
     "metadata": {},
     "output_type": "display_data"
    }
   ],
   "source": [
    "# Plots\n",
    "x_ = np.arange(len(his.epoch))\n",
    "plt.figure(1)\n",
    "plt.title('Accuracy')\n",
    "plt.plot(x_, his.history['categorical_accuracy'], 'r', label='Training')\n",
    "plt.plot(x_, his.history['val_categorical_accuracy'], 'b', label='Validation')\n",
    "plt.legend()\n",
    "plt.show()\n",
    "\n",
    "plt.figure(2)\n",
    "plt.title('Loss')\n",
    "plt.plot(x_, his.history['loss'], 'r', label='Training')\n",
    "plt.plot(x_, his.history['val_loss'], 'b', label='Validation')\n",
    "plt.legend()\n",
    "plt.show()\n"
   ]
  },
  {
   "cell_type": "code",
   "execution_count": null,
   "metadata": {},
   "outputs": [],
   "source": []
  }
 ],
 "metadata": {
  "anaconda-cloud": {},
  "kernelspec": {
   "display_name": "Python 3",
   "language": "python",
   "name": "python3"
  },
  "language_info": {
   "codemirror_mode": {
    "name": "ipython",
    "version": 3
   },
   "file_extension": ".py",
   "mimetype": "text/x-python",
   "name": "python",
   "nbconvert_exporter": "python",
   "pygments_lexer": "ipython3",
   "version": "3.6.2"
  }
 },
 "nbformat": 4,
 "nbformat_minor": 2
}
